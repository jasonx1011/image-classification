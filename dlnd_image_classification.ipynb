{
 "cells": [
  {
   "cell_type": "markdown",
   "metadata": {
    "collapsed": true
   },
   "source": [
    "# Image Classification\n",
    "In this project, you'll classify images from the [CIFAR-10 dataset](https://www.cs.toronto.edu/~kriz/cifar.html).  The dataset consists of airplanes, dogs, cats, and other objects. You'll preprocess the images, then train a convolutional neural network on all the samples. The images need to be normalized and the labels need to be one-hot encoded.  You'll get to apply what you learned and build a convolutional, max pooling, dropout, and fully connected layers.  At the end, you'll get to see your neural network's predictions on the sample images.\n",
    "## Get the Data\n",
    "Run the following cell to download the [CIFAR-10 dataset for python](https://www.cs.toronto.edu/~kriz/cifar-10-python.tar.gz)."
   ]
  },
  {
   "cell_type": "code",
   "execution_count": 1,
   "metadata": {},
   "outputs": [
    {
     "name": "stdout",
     "output_type": "stream",
     "text": [
      "All files found!\n"
     ]
    }
   ],
   "source": [
    "\"\"\"\n",
    "DON'T MODIFY ANYTHING IN THIS CELL THAT IS BELOW THIS LINE\n",
    "\"\"\"\n",
    "from urllib.request import urlretrieve\n",
    "from os.path import isfile, isdir\n",
    "from tqdm import tqdm\n",
    "import problem_unittests as tests\n",
    "import tarfile\n",
    "\n",
    "cifar10_dataset_folder_path = 'cifar-10-batches-py'\n",
    "\n",
    "# Use Floyd's cifar-10 dataset if present\n",
    "floyd_cifar10_location = '/cifar/cifar-10-python.tar.gz'\n",
    "if isfile(floyd_cifar10_location):\n",
    "    tar_gz_path = floyd_cifar10_location\n",
    "else:\n",
    "    tar_gz_path = 'cifar-10-python.tar.gz'\n",
    "\n",
    "class DLProgress(tqdm):\n",
    "    last_block = 0\n",
    "\n",
    "    def hook(self, block_num=1, block_size=1, total_size=None):\n",
    "        self.total = total_size\n",
    "        self.update((block_num - self.last_block) * block_size)\n",
    "        self.last_block = block_num\n",
    "\n",
    "if not isfile(tar_gz_path):\n",
    "    with DLProgress(unit='B', unit_scale=True, miniters=1, desc='CIFAR-10 Dataset') as pbar:\n",
    "        urlretrieve(\n",
    "            'https://www.cs.toronto.edu/~kriz/cifar-10-python.tar.gz',\n",
    "            tar_gz_path,\n",
    "            pbar.hook)\n",
    "\n",
    "if not isdir(cifar10_dataset_folder_path):\n",
    "    with tarfile.open(tar_gz_path) as tar:\n",
    "        tar.extractall()\n",
    "        tar.close()\n",
    "\n",
    "\n",
    "tests.test_folder_path(cifar10_dataset_folder_path)"
   ]
  },
  {
   "cell_type": "markdown",
   "metadata": {},
   "source": [
    "## Explore the Data\n",
    "The dataset is broken into batches to prevent your machine from running out of memory.  The CIFAR-10 dataset consists of 5 batches, named `data_batch_1`, `data_batch_2`, etc.. Each batch contains the labels and images that are one of the following:\n",
    "* airplane\n",
    "* automobile\n",
    "* bird\n",
    "* cat\n",
    "* deer\n",
    "* dog\n",
    "* frog\n",
    "* horse\n",
    "* ship\n",
    "* truck\n",
    "\n",
    "Understanding a dataset is part of making predictions on the data.  Play around with the code cell below by changing the `batch_id` and `sample_id`. The `batch_id` is the id for a batch (1-5). The `sample_id` is the id for a image and label pair in the batch.\n",
    "\n",
    "Ask yourself \"What are all possible labels?\", \"What is the range of values for the image data?\", \"Are the labels in order or random?\".  Answers to questions like these will help you preprocess the data and end up with better predictions."
   ]
  },
  {
   "cell_type": "code",
   "execution_count": 2,
   "metadata": {},
   "outputs": [
    {
     "name": "stdout",
     "output_type": "stream",
     "text": [
      "\n",
      "Stats of batch 1:\n",
      "Samples: 10000\n",
      "Label Counts: {0: 1005, 1: 974, 2: 1032, 3: 1016, 4: 999, 5: 937, 6: 1030, 7: 1001, 8: 1025, 9: 981}\n",
      "First 20 Labels: [6, 9, 9, 4, 1, 1, 2, 7, 8, 3, 4, 7, 7, 2, 9, 9, 9, 3, 2, 6]\n",
      "\n",
      "Example of Image 3:\n",
      "Image - Min Value: 4 Max Value: 234\n",
      "Image - Shape: (32, 32, 3)\n",
      "Label - Label Id: 4 Name: deer\n"
     ]
    },
    {
     "data": {
      "image/png": "[encoded data removed]",
      "text/plain": [
       "<matplotlib.figure.Figure at 0x11b02af60>"
      ]
     },
     "metadata": {
      "image/png": {
       "height": 250,
       "width": 253
      }
     },
     "output_type": "display_data"
    }
   ],
   "source": [
    "%matplotlib inline\n",
    "%config InlineBackend.figure_format = 'retina'\n",
    "\n",
    "import helper\n",
    "import numpy as np\n",
    "\n",
    "# Explore the dataset\n",
    "batch_id = 1\n",
    "sample_id = 3\n",
    "helper.display_stats(cifar10_dataset_folder_path, batch_id, sample_id)"
   ]
  },
  {
   "cell_type": "markdown",
   "metadata": {},
   "source": [
    "## Implement Preprocess Functions\n",
    "### Normalize\n",
    "In the cell below, implement the `normalize` function to take in image data, `x`, and return it as a normalized Numpy array. The values should be in the range of 0 to 1, inclusive.  The return object should be the same shape as `x`."
   ]
  },
  {
   "cell_type": "code",
   "execution_count": 3,
   "metadata": {},
   "outputs": [
    {
     "name": "stdout",
     "output_type": "stream",
     "text": [
      "Tests Passed\n"
     ]
    }
   ],
   "source": [
    "def normalize(x):\n",
    "    \"\"\"\n",
    "    Normalize a list of sample image data in the range of 0 to 1\n",
    "    : x: List of image data.  The image shape is (32, 32, 3)\n",
    "    : return: Numpy array of normalize data\n",
    "    \"\"\"\n",
    "    # TODO: Implement Function\n",
    "    result = np.zeros((32,32,3), dtype=float)\n",
    "    result = x / float(255)\n",
    "    return result\n",
    "\n",
    "\n",
    "\"\"\"\n",
    "DON'T MODIFY ANYTHING IN THIS CELL THAT IS BELOW THIS LINE\n",
    "\"\"\"\n",
    "tests.test_normalize(normalize)"
   ]
  },
  {
   "cell_type": "markdown",
   "metadata": {},
   "source": [
    "### One-hot encode\n",
    "Just like the previous code cell, you'll be implementing a function for preprocessing.  This time, you'll implement the `one_hot_encode` function. The input, `x`, are a list of labels.  Implement the function to return the list of labels as One-Hot encoded Numpy array.  The possible values for labels are 0 to 9. The one-hot encoding function should return the same encoding for each value between each call to `one_hot_encode`.  Make sure to save the map of encodings outside the function.\n",
    "\n",
    "Hint: Don't reinvent the wheel."
   ]
  },
  {
   "cell_type": "code",
   "execution_count": 4,
   "metadata": {
    "collapsed": true
   },
   "outputs": [],
   "source": [
    "# from sklearn import preprocessing\n",
    "# def one_hot_encode_2(x):\n",
    "#     \"\"\"\n",
    "#     One hot encode a list of sample labels. Return a one-hot encoded vector for each label.\n",
    "#     : x: List of sample Labels\n",
    "#     : return: Numpy array of one-hot encoded labels\n",
    "#     \"\"\"\n",
    "#     # TODO: Implement Function\n",
    "#     labels = np.array([x for x in range(10)])\n",
    "#     lb = preprocessing.LabelBinarizer()\n",
    "#     lb.fit(labels)\n",
    "#     return lb.transform(x)\n",
    "\n",
    "\n",
    "# \"\"\"\n",
    "# DON'T MODIFY ANYTHING IN THIS CELL THAT IS BELOW THIS LINE\n",
    "# \"\"\"\n",
    "# tests.test_one_hot_encode(one_hot_encode)"
   ]
  },
  {
   "cell_type": "code",
   "execution_count": 5,
   "metadata": {},
   "outputs": [
    {
     "name": "stdout",
     "output_type": "stream",
     "text": [
      "Tests Passed\n"
     ]
    }
   ],
   "source": [
    "def one_hot_encode(x):\n",
    "    \"\"\"\n",
    "    One hot encode a list of sample labels. Return a one-hot encoded vector for each label.\n",
    "    : x: List of sample Labels\n",
    "    : return: Numpy array of one-hot encoded labels\n",
    "    \"\"\"\n",
    "    # TODO: Implement Function\n",
    "    # result = np.zeros((len(x), 10), dtype=float)\n",
    "    # for idx in range(len(x)):\n",
    "    #     result[idx, x[idx]] = 1\n",
    "    result = np.eye(10)[x]\n",
    "    return result\n",
    "\n",
    "\n",
    "\"\"\"\n",
    "DON'T MODIFY ANYTHING IN THIS CELL THAT IS BELOW THIS LINE\n",
    "\"\"\"\n",
    "tests.test_one_hot_encode(one_hot_encode)"
   ]
  },
  {
   "cell_type": "markdown",
   "metadata": {},
   "source": [
    "### Randomize Data\n",
    "As you saw from exploring the data above, the order of the samples are randomized.  It doesn't hurt to randomize it again, but you don't need to for this dataset."
   ]
  },
  {
   "cell_type": "markdown",
   "metadata": {},
   "source": [
    "## Preprocess all the data and save it\n",
    "Running the code cell below will preprocess all the CIFAR-10 data and save it to file. The code below also uses 10% of the training data for validation."
   ]
  },
  {
   "cell_type": "code",
   "execution_count": 6,
   "metadata": {
    "collapsed": true
   },
   "outputs": [],
   "source": [
    "\"\"\"\n",
    "DON'T MODIFY ANYTHING IN THIS CELL\n",
    "\"\"\"\n",
    "# Preprocess Training, Validation, and Testing Data\n",
    "helper.preprocess_and_save_data(cifar10_dataset_folder_path, normalize, one_hot_encode)"
   ]
  },
  {
   "cell_type": "markdown",
   "metadata": {},
   "source": [
    "# Check Point\n",
    "This is your first checkpoint.  If you ever decide to come back to this notebook or have to restart the notebook, you can start from here.  The preprocessed data has been saved to disk."
   ]
  },
  {
   "cell_type": "code",
   "execution_count": 7,
   "metadata": {
    "collapsed": true
   },
   "outputs": [],
   "source": [
    "\"\"\"\n",
    "DON'T MODIFY ANYTHING IN THIS CELL\n",
    "\"\"\"\n",
    "import pickle\n",
    "import problem_unittests as tests\n",
    "import helper\n",
    "\n",
    "# Load the Preprocessed Validation data\n",
    "valid_features, valid_labels = pickle.load(open('preprocess_validation.p', mode='rb'))"
   ]
  },
  {
   "cell_type": "markdown",
   "metadata": {},
   "source": [
    "## Build the network\n",
    "For the neural network, you'll build each layer into a function.  Most of the code you've seen has been outside of functions. To test your code more thoroughly, we require that you put each layer in a function.  This allows us to give you better feedback and test for simple mistakes using our unittests before you submit your project.\n",
    "\n",
    ">**Note:** If you're finding it hard to dedicate enough time for this course each week, we've provided a small shortcut to this part of the project. In the next couple of problems, you'll have the option to use classes from the [TensorFlow Layers](https://www.tensorflow.org/api_docs/python/tf/layers) or [TensorFlow Layers (contrib)](https://www.tensorflow.org/api_guides/python/contrib.layers) packages to build each layer, except the layers you build in the \"Convolutional and Max Pooling Layer\" section.  TF Layers is similar to Keras's and TFLearn's abstraction to layers, so it's easy to pickup.\n",
    "\n",
    ">However, if you would like to get the most out of this course, try to solve all the problems _without_ using anything from the TF Layers packages. You **can** still use classes from other packages that happen to have the same name as ones you find in TF Layers! For example, instead of using the TF Layers version of the `conv2d` class, [tf.layers.conv2d](https://www.tensorflow.org/api_docs/python/tf/layers/conv2d), you would want to use the TF Neural Network version of `conv2d`, [tf.nn.conv2d](https://www.tensorflow.org/api_docs/python/tf/nn/conv2d). \n",
    "\n",
    "Let's begin!\n",
    "\n",
    "### Input\n",
    "The neural network needs to read the image data, one-hot encoded labels, and dropout keep probability. Implement the following functions\n",
    "* Implement `neural_net_image_input`\n",
    " * Return a [TF Placeholder](https://www.tensorflow.org/api_docs/python/tf/placeholder)\n",
    " * Set the shape using `image_shape` with batch size set to `None`.\n",
    " * Name the TensorFlow placeholder \"x\" using the TensorFlow `name` parameter in the [TF Placeholder](https://www.tensorflow.org/api_docs/python/tf/placeholder).\n",
    "* Implement `neural_net_label_input`\n",
    " * Return a [TF Placeholder](https://www.tensorflow.org/api_docs/python/tf/placeholder)\n",
    " * Set the shape using `n_classes` with batch size set to `None`.\n",
    " * Name the TensorFlow placeholder \"y\" using the TensorFlow `name` parameter in the [TF Placeholder](https://www.tensorflow.org/api_docs/python/tf/placeholder).\n",
    "* Implement `neural_net_keep_prob_input`\n",
    " * Return a [TF Placeholder](https://www.tensorflow.org/api_docs/python/tf/placeholder) for dropout keep probability.\n",
    " * Name the TensorFlow placeholder \"keep_prob\" using the TensorFlow `name` parameter in the [TF Placeholder](https://www.tensorflow.org/api_docs/python/tf/placeholder).\n",
    "\n",
    "These names will be used at the end of the project to load your saved model.\n",
    "\n",
    "Note: `None` for shapes in TensorFlow allow for a dynamic size."
   ]
  },
  {
   "cell_type": "code",
   "execution_count": 8,
   "metadata": {},
   "outputs": [
    {
     "name": "stdout",
     "output_type": "stream",
     "text": [
      "Image Input Tests Passed.\n",
      "Label Input Tests Passed.\n",
      "Keep Prob Tests Passed.\n"
     ]
    }
   ],
   "source": [
    "import tensorflow as tf\n",
    "\n",
    "def neural_net_image_input(image_shape):\n",
    "    \"\"\"\n",
    "    Return a Tensor for a batch of image input\n",
    "    : image_shape: Shape of the images\n",
    "    : return: Tensor for image input.\n",
    "    \"\"\"\n",
    "    # TODO: Implement Function\n",
    "    # h, w, c = image_shape\n",
    "    # result = tf.placeholder(dtype = tf.float32, shape = (None, h, w, c), name = \"x\")\n",
    "    result = tf.placeholder(tf.float32, shape=[None, *image_shape], name='x')\n",
    "    return result\n",
    "\n",
    "\n",
    "def neural_net_label_input(n_classes):\n",
    "    \"\"\"\n",
    "    Return a Tensor for a batch of label input\n",
    "    : n_classes: Number of classes\n",
    "    : return: Tensor for label input.\n",
    "    \"\"\"\n",
    "    # TODO: Implement Function\n",
    "    result = tf.placeholder(dtype = tf.float32, shape = (None, n_classes), name = \"y\")\n",
    "    return result\n",
    "\n",
    "\n",
    "def neural_net_keep_prob_input():\n",
    "    \"\"\"\n",
    "    Return a Tensor for keep probability\n",
    "    : return: Tensor for keep probability.\n",
    "    \"\"\"\n",
    "    # TODO: Implement Function\n",
    "    result = tf.placeholder(dtype = tf.float32, shape = None, name = \"keep_prob\")\n",
    "    return result\n",
    "\n",
    "\n",
    "\"\"\"\n",
    "DON'T MODIFY ANYTHING IN THIS CELL THAT IS BELOW THIS LINE\n",
    "\"\"\"\n",
    "tf.reset_default_graph()\n",
    "tests.test_nn_image_inputs(neural_net_image_input)\n",
    "tests.test_nn_label_inputs(neural_net_label_input)\n",
    "tests.test_nn_keep_prob_inputs(neural_net_keep_prob_input)"
   ]
  },
  {
   "cell_type": "markdown",
   "metadata": {},
   "source": [
    "### Convolution and Max Pooling Layer\n",
    "Convolution layers have a lot of success with images. For this code cell, you should implement the function `conv2d_maxpool` to apply convolution then max pooling:\n",
    "* Create the weight and bias using `conv_ksize`, `conv_num_outputs` and the shape of `x_tensor`.\n",
    "* Apply a convolution to `x_tensor` using weight and `conv_strides`.\n",
    " * We recommend you use same padding, but you're welcome to use any padding.\n",
    "* Add bias\n",
    "* Add a nonlinear activation to the convolution.\n",
    "* Apply Max Pooling using `pool_ksize` and `pool_strides`.\n",
    " * We recommend you use same padding, but you're welcome to use any padding.\n",
    "\n",
    "**Note:** You **can't** use [TensorFlow Layers](https://www.tensorflow.org/api_docs/python/tf/layers) or [TensorFlow Layers (contrib)](https://www.tensorflow.org/api_guides/python/contrib.layers) for **this** layer, but you can still use TensorFlow's [Neural Network](https://www.tensorflow.org/api_docs/python/tf/nn) package. You may still use the shortcut option for all the **other** layers."
   ]
  },
  {
   "cell_type": "code",
   "execution_count": 9,
   "metadata": {},
   "outputs": [
    {
     "name": "stdout",
     "output_type": "stream",
     "text": [
      "Tests Passed\n"
     ]
    }
   ],
   "source": [
    "def conv2d_maxpool(x_tensor, conv_num_outputs, conv_ksize, conv_strides, pool_ksize, pool_strides):\n",
    "    \"\"\"\n",
    "    Apply convolution then max pooling to x_tensor\n",
    "    :param x_tensor: TensorFlow Tensor\n",
    "    :param conv_num_outputs: Number of outputs for the convolutional layer\n",
    "    :param conv_ksize: kernal size 2-D Tuple for the convolutional layer\n",
    "    :param conv_strides: Stride 2-D Tuple for convolution\n",
    "    :param pool_ksize: kernal size 2-D Tuple for pool\n",
    "    :param pool_strides: Stride 2-D Tuple for pool\n",
    "    : return: A tensor that represents convolution and max pooling of x_tensor\n",
    "    \"\"\"\n",
    "    # TODO: Implement Function\n",
    "    \n",
    "    b, h, w, c = x_tensor.get_shape().as_list()\n",
    "    # Note: se x_tensor.shape will return a tensor\n",
    "    weight = tf.Variable(tf.truncated_normal([conv_ksize[0], conv_ksize[1], c, conv_num_outputs], stddev = 0.05))\n",
    "    bias = tf.Variable(tf.zeros(conv_num_outputs))\n",
    "    # bias = tf.Variable([0.1 for i in range(conv_num_outputs)], tf.float32)\n",
    "    conv_layer = tf.nn.conv2d(x_tensor, weight, strides = [1, conv_strides[0], conv_strides[1], 1], padding = \"SAME\")\n",
    "    conv_layer = tf.nn.bias_add(conv_layer, bias)\n",
    "    conv_layer = tf.nn.relu(conv_layer)\n",
    "    conv_maxpool_layer = tf.nn.max_pool(conv_layer,\n",
    "                                ksize=[1, pool_ksize[0], pool_ksize[1], 1], \n",
    "                                strides=[1, pool_strides[0], pool_strides[1], 1],\n",
    "                                padding='SAME')\n",
    "    return conv_maxpool_layer\n",
    "\n",
    "\n",
    "\"\"\"\n",
    "DON'T MODIFY ANYTHING IN THIS CELL THAT IS BELOW THIS LINE\n",
    "\"\"\"\n",
    "tests.test_con_pool(conv2d_maxpool)"
   ]
  },
  {
   "cell_type": "markdown",
   "metadata": {},
   "source": [
    "### Flatten Layer\n",
    "Implement the `flatten` function to change the dimension of `x_tensor` from a 4-D tensor to a 2-D tensor.  The output should be the shape (*Batch Size*, *Flattened Image Size*). Shortcut option: you can use classes from the [TensorFlow Layers](https://www.tensorflow.org/api_docs/python/tf/layers) or [TensorFlow Layers (contrib)](https://www.tensorflow.org/api_guides/python/contrib.layers) packages for this layer. For more of a challenge, only use other TensorFlow packages."
   ]
  },
  {
   "cell_type": "code",
   "execution_count": 10,
   "metadata": {},
   "outputs": [
    {
     "name": "stdout",
     "output_type": "stream",
     "text": [
      "Tests Passed\n"
     ]
    }
   ],
   "source": [
    "def flatten(x_tensor):\n",
    "    \"\"\"\n",
    "    Flatten x_tensor to (Batch Size, Flattened Image Size)\n",
    "    : x_tensor: A tensor of size (Batch Size, ...), where ... are the image dimensions.\n",
    "    : return: A tensor of size (Batch Size, Flattened Image Size).\n",
    "    \"\"\"\n",
    "    # TODO: Implement Function\n",
    "    shape = x_tensor.get_shape().as_list()\n",
    "    # without the 1st param, which is Batch Size\n",
    "    flatten_dim = np.prod(shape[1:])\n",
    "    result = tf.reshape(x_tensor, [-1, flatten_dim])\n",
    "    return result\n",
    "\n",
    "\n",
    "\"\"\"\n",
    "DON'T MODIFY ANYTHING IN THIS CELL THAT IS BELOW THIS LINE\n",
    "\"\"\"\n",
    "tests.test_flatten(flatten)"
   ]
  },
  {
   "cell_type": "markdown",
   "metadata": {},
   "source": [
    "### Fully-Connected Layer\n",
    "Implement the `fully_conn` function to apply a fully connected layer to `x_tensor` with the shape (*Batch Size*, *num_outputs*). Shortcut option: you can use classes from the [TensorFlow Layers](https://www.tensorflow.org/api_docs/python/tf/layers) or [TensorFlow Layers (contrib)](https://www.tensorflow.org/api_guides/python/contrib.layers) packages for this layer. For more of a challenge, only use other TensorFlow packages."
   ]
  },
  {
   "cell_type": "code",
   "execution_count": 11,
   "metadata": {},
   "outputs": [
    {
     "name": "stdout",
     "output_type": "stream",
     "text": [
      "Tests Passed\n"
     ]
    }
   ],
   "source": [
    "def fully_conn(x_tensor, num_outputs):\n",
    "    \"\"\"\n",
    "    Apply a fully connected layer to x_tensor using weight and bias\n",
    "    : x_tensor: A 2-D tensor where the first dimension is batch size.\n",
    "    : num_outputs: The number of output that the new tensor should be.\n",
    "    : return: A 2-D tensor where the second dimension is num_outputs.\n",
    "    \"\"\"\n",
    "    # TODO: Implement Function\n",
    "#     shape_list = x_tensor.get_shape().as_list()\n",
    "#     weight = tf.Variable(tf.truncated_normal([shape_list[1], num_outputs]))\n",
    "#     bias = tf.Variable(tf.zeros(num_outputs))\n",
    "#     result = tf.nn.bias_add(tf.matmul(x_tensor, weight), bias)\n",
    "    \n",
    "    # method of using tf.layers.dense()\n",
    "    shape_list = x_tensor.get_shape().as_list()\n",
    "    result = tf.layers.dense(inputs = x_tensor,\n",
    "                    units = num_outputs,\n",
    "                    activation = tf.nn.relu,\n",
    "                    # activation = tf.nn.elu,\n",
    "                    kernel_initializer = tf.truncated_normal_initializer())\n",
    "    return result\n",
    "\n",
    "\n",
    "\"\"\"\n",
    "DON'T MODIFY ANYTHING IN THIS CELL THAT IS BELOW THIS LINE\n",
    "\"\"\"\n",
    "tests.test_fully_conn(fully_conn)"
   ]
  },
  {
   "cell_type": "markdown",
   "metadata": {},
   "source": [
    "### Output Layer\n",
    "Implement the `output` function to apply a fully connected layer to `x_tensor` with the shape (*Batch Size*, *num_outputs*). Shortcut option: you can use classes from the [TensorFlow Layers](https://www.tensorflow.org/api_docs/python/tf/layers) or [TensorFlow Layers (contrib)](https://www.tensorflow.org/api_guides/python/contrib.layers) packages for this layer. For more of a challenge, only use other TensorFlow packages.\n",
    "\n",
    "**Note:** Activation, softmax, or cross entropy should **not** be applied to this."
   ]
  },
  {
   "cell_type": "code",
   "execution_count": 12,
   "metadata": {},
   "outputs": [
    {
     "name": "stdout",
     "output_type": "stream",
     "text": [
      "Tests Passed\n"
     ]
    }
   ],
   "source": [
    "def output(x_tensor, num_outputs):\n",
    "    \"\"\"\n",
    "    Apply a output layer to x_tensor using weight and bias\n",
    "    : x_tensor: A 2-D tensor where the first dimension is batch size.\n",
    "    : num_outputs: The number of output that the new tensor should be.\n",
    "    : return: A 2-D tensor where the second dimension is num_outputs.\n",
    "    \"\"\"\n",
    "    # TODO: Implement Function\n",
    "    # method of using tf.layers.dense()\n",
    "    shape_list = x_tensor.get_shape().as_list()\n",
    "    result = tf.layers.dense(inputs = x_tensor,\n",
    "                    units = num_outputs,\n",
    "                    activation = None,\n",
    "                    kernel_initializer = tf.truncated_normal_initializer())\n",
    "    return result\n",
    "\n",
    "\n",
    "\"\"\"\n",
    "DON'T MODIFY ANYTHING IN THIS CELL THAT IS BELOW THIS LINE\n",
    "\"\"\"\n",
    "tests.test_output(output)"
   ]
  },
  {
   "cell_type": "markdown",
   "metadata": {},
   "source": [
    "### Create Convolutional Model\n",
    "Implement the function `conv_net` to create a convolutional neural network model. The function takes in a batch of images, `x`, and outputs logits.  Use the layers you created above to create this model:\n",
    "\n",
    "* Apply 1, 2, or 3 Convolution and Max Pool layers\n",
    "* Apply a Flatten Layer\n",
    "* Apply 1, 2, or 3 Fully Connected Layers\n",
    "* Apply an Output Layer\n",
    "* Return the output\n",
    "* Apply [TensorFlow's Dropout](https://www.tensorflow.org/api_docs/python/tf/nn/dropout) to one or more layers in the model using `keep_prob`. "
   ]
  },
  {
   "cell_type": "code",
   "execution_count": 13,
   "metadata": {},
   "outputs": [
    {
     "name": "stdout",
     "output_type": "stream",
     "text": [
      "Neural Network Built!\n"
     ]
    }
   ],
   "source": [
    "def conv_net(x, keep_prob):\n",
    "    \"\"\"\n",
    "    Create a convolutional neural network model\n",
    "    : x: Placeholder tensor that holds image data.\n",
    "    : keep_prob: Placeholder tensor that hold dropout keep probability.\n",
    "    : return: Tensor that represents logits\n",
    "    \"\"\"\n",
    "    # TODO: Apply 1, 2, or 3 Convolution and Max Pool layers\n",
    "    #    Play around with different number of outputs, kernel size and stride\n",
    "    # Function Definition from Above:\n",
    "    #    conv2d_maxpool(x_tensor, conv_num_outputs, conv_ksize, conv_strides, pool_ksize, pool_strides)\n",
    "    \n",
    "    conv_layer = conv2d_maxpool(x,          128, (3, 3), (2, 2), (3, 3), (2, 2))\n",
    "    conv_layer = conv2d_maxpool(conv_layer, 256, (3, 3), (2, 2), (3, 3), (2, 2))\n",
    "    \n",
    "    # conv_layer = conv2d_maxpool(x,           64, (3, 3), (2, 2), (2, 2), (2, 2))\n",
    "    # conv_layer = conv2d_maxpool(conv_layer, 256, (5, 5), (2, 2), (2, 2), (2, 2))\n",
    "    # conv_layer = conv2d_maxpool(conv_layer, 512, (5, 5), (2, 2), (3, 3), (2, 2))\n",
    "    \n",
    "    # TODO: Apply a Flatten Layer\n",
    "    # Function Definition from Above:\n",
    "    #   flatten(x_tensor)\n",
    "    \n",
    "    flatten_layer = flatten(conv_layer)\n",
    "    \n",
    "    # TODO: Apply 1, 2, or 3 Fully Connected Layers\n",
    "    #    Play around with different number of outputs\n",
    "    # Function Definition from Above:\n",
    "    #   fully_conn(x_tensor, num_outputs)\n",
    "    \n",
    "    fully_layer = fully_conn(flatten_layer, 256)\n",
    "    fully_layer = tf.nn.dropout(fully_layer, keep_prob = keep_prob)\n",
    "    fully_layer = fully_conn(fully_layer, 128)\n",
    "    \n",
    "    # fully_layer = fully_conn(flatten_layer, 192)\n",
    "    # fully_layer = fully_conn(flatten_layer, 256)\n",
    "\n",
    "    # TODO: Apply an Output Layer\n",
    "    #    Set this to the number of classes\n",
    "    # Function Definition from Above:\n",
    "    #   output(x_tensor, num_outputs)\n",
    "    \n",
    "    num_outputs = 10\n",
    "    output_layer = output(fully_layer, num_outputs)\n",
    "    \n",
    "    # TODO: return output\n",
    "    return output_layer\n",
    "\n",
    "\n",
    "\"\"\"\n",
    "DON'T MODIFY ANYTHING IN THIS CELL THAT IS BELOW THIS LINE\n",
    "\"\"\"\n",
    "\n",
    "##############################\n",
    "## Build the Neural Network ##\n",
    "##############################\n",
    "\n",
    "# Remove previous weights, bias, inputs, etc..\n",
    "tf.reset_default_graph()\n",
    "\n",
    "# Inputs\n",
    "x = neural_net_image_input((32, 32, 3))\n",
    "y = neural_net_label_input(10)\n",
    "keep_prob = neural_net_keep_prob_input()\n",
    "\n",
    "# Model\n",
    "logits = conv_net(x, keep_prob)\n",
    "\n",
    "# Name logits Tensor, so that is can be loaded from disk after training\n",
    "logits = tf.identity(logits, name='logits')\n",
    "\n",
    "# Loss and Optimizer\n",
    "cost = tf.reduce_mean(tf.nn.softmax_cross_entropy_with_logits(logits=logits, labels=y))\n",
    "optimizer = tf.train.AdamOptimizer().minimize(cost)\n",
    "\n",
    "# Accuracy\n",
    "correct_pred = tf.equal(tf.argmax(logits, 1), tf.argmax(y, 1))\n",
    "accuracy = tf.reduce_mean(tf.cast(correct_pred, tf.float32), name='accuracy')\n",
    "\n",
    "tests.test_conv_net(conv_net)"
   ]
  },
  {
   "cell_type": "markdown",
   "metadata": {},
   "source": [
    "## Train the Neural Network\n",
    "### Single Optimization\n",
    "Implement the function `train_neural_network` to do a single optimization.  The optimization should use `optimizer` to optimize in `session` with a `feed_dict` of the following:\n",
    "* `x` for image input\n",
    "* `y` for labels\n",
    "* `keep_prob` for keep probability for dropout\n",
    "\n",
    "This function will be called for each batch, so `tf.global_variables_initializer()` has already been called.\n",
    "\n",
    "Note: Nothing needs to be returned. This function is only optimizing the neural network."
   ]
  },
  {
   "cell_type": "code",
   "execution_count": 14,
   "metadata": {},
   "outputs": [
    {
     "name": "stdout",
     "output_type": "stream",
     "text": [
      "Tests Passed\n"
     ]
    }
   ],
   "source": [
    "def train_neural_network(session, optimizer, keep_probability, feature_batch, label_batch):\n",
    "    \"\"\"\n",
    "    Optimize the session on a batch of images and labels\n",
    "    : session: Current TensorFlow session\n",
    "    : optimizer: TensorFlow optimizer function\n",
    "    : keep_probability: keep probability\n",
    "    : feature_batch: Batch of Numpy image data\n",
    "    : label_batch: Batch of Numpy label data\n",
    "    \"\"\"\n",
    "    # TODO: Implement Function\n",
    "    \n",
    "    session.run([optimizer], feed_dict={keep_prob: keep_probability,\n",
    "                                        x: feature_batch,\n",
    "                                        y: label_batch})\n",
    "    return None\n",
    "\n",
    "\n",
    "\"\"\"\n",
    "DON'T MODIFY ANYTHING IN THIS CELL THAT IS BELOW THIS LINE\n",
    "\"\"\"\n",
    "tests.test_train_nn(train_neural_network)"
   ]
  },
  {
   "cell_type": "markdown",
   "metadata": {},
   "source": [
    "### Show Stats\n",
    "Implement the function `print_stats` to print loss and validation accuracy.  Use the global variables `valid_features` and `valid_labels` to calculate validation accuracy.  Use a keep probability of `1.0` to calculate the loss and validation accuracy."
   ]
  },
  {
   "cell_type": "code",
   "execution_count": 15,
   "metadata": {
    "collapsed": true
   },
   "outputs": [],
   "source": [
    "def print_stats(session, feature_batch, label_batch, cost, accuracy):\n",
    "    \"\"\"\n",
    "    Print information about loss and validation accuracy\n",
    "    : session: Current TensorFlow session\n",
    "    : feature_batch: Batch of Numpy image data\n",
    "    : label_batch: Batch of Numpy label data\n",
    "    : cost: TensorFlow cost function\n",
    "    : accuracy: TensorFlow accuracy function\n",
    "    \"\"\"\n",
    "    # TODO: Implement Function\n",
    "    loss = session.run(cost, feed_dict = {x: feature_batch,\n",
    "                                             y: label_batch,\n",
    "                                             keep_prob: 1.0})\n",
    "\n",
    "    valid_acc = session.run(accuracy, feed_dict={x: valid_features,\n",
    "                                              y: valid_labels,\n",
    "                                              keep_prob: 1.0})\n",
    "\n",
    "    print('batch training loss = {:>5.3f}, valid_acc = {:>1.3f}'.format(loss, valid_acc))\n",
    "    return None"
   ]
  },
  {
   "cell_type": "markdown",
   "metadata": {},
   "source": [
    "### Hyperparameters\n",
    "Tune the following parameters:\n",
    "* Set `epochs` to the number of iterations until the network stops learning or start overfitting\n",
    "* Set `batch_size` to the highest number that your machine has memory for.  Most people set them to common sizes of memory:\n",
    " * 64\n",
    " * 128\n",
    " * 256\n",
    " * ...\n",
    "* Set `keep_probability` to the probability of keeping a node using dropout"
   ]
  },
  {
   "cell_type": "code",
   "execution_count": 16,
   "metadata": {
    "collapsed": true
   },
   "outputs": [],
   "source": [
    "# TODO: Tune Parameters\n",
    "# epochs = 20\n",
    "# epochs = 5\n",
    "epochs = 50\n",
    "batch_size = 256\n",
    "keep_probability = 0.7"
   ]
  },
  {
   "cell_type": "code",
   "execution_count": 17,
   "metadata": {
    "collapsed": true
   },
   "outputs": [],
   "source": [
    "import timeit"
   ]
  },
  {
   "cell_type": "code",
   "execution_count": 18,
   "metadata": {
    "collapsed": true
   },
   "outputs": [],
   "source": [
    "start_time = timeit.default_timer()"
   ]
  },
  {
   "cell_type": "markdown",
   "metadata": {},
   "source": [
    "### Train on a Single CIFAR-10 Batch\n",
    "Instead of training the neural network on all the CIFAR-10 batches of data, let's use a single batch. This should save time while you iterate on the model to get a better accuracy.  Once the final validation accuracy is 50% or greater, run the model on all the data in the next section."
   ]
  },
  {
   "cell_type": "code",
   "execution_count": 19,
   "metadata": {
    "scrolled": true
   },
   "outputs": [
    {
     "name": "stdout",
     "output_type": "stream",
     "text": [
      "Checking the Training on a Single Batch...\n",
      "Epoch  1, CIFAR-10 Batch 1:  batch training loss = 7.392, valid_acc = 0.185\n",
      "Epoch  2, CIFAR-10 Batch 1:  batch training loss = 2.963, valid_acc = 0.199\n",
      "Epoch  3, CIFAR-10 Batch 1:  batch training loss = 2.079, valid_acc = 0.171\n",
      "Epoch  4, CIFAR-10 Batch 1:  batch training loss = 2.194, valid_acc = 0.173\n",
      "Epoch  5, CIFAR-10 Batch 1:  batch training loss = 2.112, valid_acc = 0.202\n",
      "Epoch  6, CIFAR-10 Batch 1:  batch training loss = 2.011, valid_acc = 0.219\n",
      "Epoch  7, CIFAR-10 Batch 1:  batch training loss = 1.913, valid_acc = 0.234\n",
      "Epoch  8, CIFAR-10 Batch 1:  batch training loss = 1.842, valid_acc = 0.259\n",
      "Epoch  9, CIFAR-10 Batch 1:  batch training loss = 1.785, valid_acc = 0.256\n",
      "Epoch 10, CIFAR-10 Batch 1:  batch training loss = 1.741, valid_acc = 0.264\n",
      "Epoch 11, CIFAR-10 Batch 1:  batch training loss = 1.735, valid_acc = 0.274\n",
      "Epoch 12, CIFAR-10 Batch 1:  batch training loss = 1.666, valid_acc = 0.275\n",
      "Epoch 13, CIFAR-10 Batch 1:  batch training loss = 1.598, valid_acc = 0.280\n",
      "Epoch 14, CIFAR-10 Batch 1:  batch training loss = 1.593, valid_acc = 0.284\n",
      "Epoch 15, CIFAR-10 Batch 1:  batch training loss = 1.502, valid_acc = 0.292\n",
      "Epoch 16, CIFAR-10 Batch 1:  batch training loss = 1.486, valid_acc = 0.297\n",
      "Epoch 17, CIFAR-10 Batch 1:  batch training loss = 1.431, valid_acc = 0.315\n",
      "Epoch 18, CIFAR-10 Batch 1:  batch training loss = 1.410, valid_acc = 0.316\n",
      "Epoch 19, CIFAR-10 Batch 1:  batch training loss = 1.420, valid_acc = 0.309\n",
      "Epoch 20, CIFAR-10 Batch 1:  batch training loss = 1.321, valid_acc = 0.318\n",
      "Epoch 21, CIFAR-10 Batch 1:  batch training loss = 1.268, valid_acc = 0.322\n",
      "Epoch 22, CIFAR-10 Batch 1:  batch training loss = 1.227, valid_acc = 0.325\n",
      "Epoch 23, CIFAR-10 Batch 1:  batch training loss = 1.245, valid_acc = 0.330\n",
      "Epoch 24, CIFAR-10 Batch 1:  batch training loss = 1.220, valid_acc = 0.335\n",
      "Epoch 25, CIFAR-10 Batch 1:  batch training loss = 1.184, valid_acc = 0.332\n",
      "Epoch 26, CIFAR-10 Batch 1:  batch training loss = 1.157, valid_acc = 0.334\n",
      "Epoch 27, CIFAR-10 Batch 1:  batch training loss = 1.150, valid_acc = 0.338\n",
      "Epoch 28, CIFAR-10 Batch 1:  batch training loss = 1.116, valid_acc = 0.343\n",
      "Epoch 29, CIFAR-10 Batch 1:  batch training loss = 1.059, valid_acc = 0.347\n",
      "Epoch 30, CIFAR-10 Batch 1:  batch training loss = 1.082, valid_acc = 0.353\n",
      "Epoch 31, CIFAR-10 Batch 1:  batch training loss = 1.021, valid_acc = 0.353\n",
      "Epoch 32, CIFAR-10 Batch 1:  batch training loss = 1.004, valid_acc = 0.363\n",
      "Epoch 33, CIFAR-10 Batch 1:  batch training loss = 1.024, valid_acc = 0.355\n",
      "Epoch 34, CIFAR-10 Batch 1:  batch training loss = 1.022, valid_acc = 0.365\n",
      "Epoch 35, CIFAR-10 Batch 1:  batch training loss = 1.041, valid_acc = 0.351\n",
      "Epoch 36, CIFAR-10 Batch 1:  batch training loss = 0.954, valid_acc = 0.369\n",
      "Epoch 37, CIFAR-10 Batch 1:  batch training loss = 0.961, valid_acc = 0.368\n",
      "Epoch 38, CIFAR-10 Batch 1:  batch training loss = 0.890, valid_acc = 0.363\n",
      "Epoch 39, CIFAR-10 Batch 1:  batch training loss = 0.912, valid_acc = 0.373\n",
      "Epoch 40, CIFAR-10 Batch 1:  batch training loss = 0.899, valid_acc = 0.364\n",
      "Epoch 41, CIFAR-10 Batch 1:  batch training loss = 0.908, valid_acc = 0.369\n",
      "Epoch 42, CIFAR-10 Batch 1:  batch training loss = 0.867, valid_acc = 0.381\n",
      "Epoch 43, CIFAR-10 Batch 1:  batch training loss = 0.844, valid_acc = 0.383\n",
      "Epoch 44, CIFAR-10 Batch 1:  batch training loss = 0.848, valid_acc = 0.386\n",
      "Epoch 45, CIFAR-10 Batch 1:  batch training loss = 0.866, valid_acc = 0.378\n",
      "Epoch 46, CIFAR-10 Batch 1:  batch training loss = 0.812, valid_acc = 0.388\n",
      "Epoch 47, CIFAR-10 Batch 1:  batch training loss = 0.809, valid_acc = 0.381\n",
      "Epoch 48, CIFAR-10 Batch 1:  batch training loss = 0.760, valid_acc = 0.385\n",
      "Epoch 49, CIFAR-10 Batch 1:  batch training loss = 0.751, valid_acc = 0.386\n",
      "Epoch 50, CIFAR-10 Batch 1:  batch training loss = 0.789, valid_acc = 0.396\n"
     ]
    }
   ],
   "source": [
    "\"\"\"\n",
    "DON'T MODIFY ANYTHING IN THIS CELL\n",
    "\"\"\"\n",
    "print('Checking the Training on a Single Batch...')\n",
    "with tf.Session() as sess:\n",
    "    # Initializing the variables\n",
    "    sess.run(tf.global_variables_initializer())\n",
    "    \n",
    "    # Training cycle\n",
    "    for epoch in range(epochs):\n",
    "        batch_i = 1\n",
    "        for batch_features, batch_labels in helper.load_preprocess_training_batch(batch_i, batch_size):\n",
    "            train_neural_network(sess, optimizer, keep_probability, batch_features, batch_labels)\n",
    "        print('Epoch {:>2}, CIFAR-10 Batch {}:  '.format(epoch + 1, batch_i), end='')\n",
    "        print_stats(sess, batch_features, batch_labels, cost, accuracy)"
   ]
  },
  {
   "cell_type": "code",
   "execution_count": 20,
   "metadata": {
    "collapsed": true
   },
   "outputs": [],
   "source": [
    "end_time = timeit.default_timer()"
   ]
  },
  {
   "cell_type": "code",
   "execution_count": 21,
   "metadata": {},
   "outputs": [
    {
     "name": "stdout",
     "output_type": "stream",
     "text": [
      "Single batch run time = 6.747670768583339 mins\n"
     ]
    }
   ],
   "source": [
    "print(\"Single batch run time = {} mins\".format((end_time - start_time)/60))"
   ]
  },
  {
   "cell_type": "code",
   "execution_count": 22,
   "metadata": {
    "collapsed": true
   },
   "outputs": [],
   "source": [
    "start_time = timeit.default_timer()"
   ]
  },
  {
   "cell_type": "markdown",
   "metadata": {},
   "source": [
    "### Fully Train the Model\n",
    "Now that you got a good accuracy with a single CIFAR-10 batch, try it with all five batches."
   ]
  },
  {
   "cell_type": "code",
   "execution_count": 23,
   "metadata": {},
   "outputs": [
    {
     "name": "stdout",
     "output_type": "stream",
     "text": [
      "Training...\n",
      "Epoch  1, CIFAR-10 Batch 1:  batch training loss = 9.931, valid_acc = 0.170\n",
      "Epoch  1, CIFAR-10 Batch 2:  batch training loss = 4.143, valid_acc = 0.193\n",
      "Epoch  1, CIFAR-10 Batch 3:  batch training loss = 2.219, valid_acc = 0.210\n",
      "Epoch  1, CIFAR-10 Batch 4:  batch training loss = 2.424, valid_acc = 0.199\n",
      "Epoch  1, CIFAR-10 Batch 5:  batch training loss = 2.416, valid_acc = 0.199\n",
      "Epoch  2, CIFAR-10 Batch 1:  batch training loss = 1.994, valid_acc = 0.218\n",
      "Epoch  2, CIFAR-10 Batch 2:  batch training loss = 2.190, valid_acc = 0.213\n",
      "Epoch  2, CIFAR-10 Batch 3:  batch training loss = 2.048, valid_acc = 0.240\n",
      "Epoch  2, CIFAR-10 Batch 4:  batch training loss = 1.963, valid_acc = 0.225\n",
      "Epoch  2, CIFAR-10 Batch 5:  batch training loss = 1.984, valid_acc = 0.246\n",
      "Epoch  3, CIFAR-10 Batch 1:  batch training loss = 1.931, valid_acc = 0.262\n",
      "Epoch  3, CIFAR-10 Batch 2:  batch training loss = 1.868, valid_acc = 0.257\n",
      "Epoch  3, CIFAR-10 Batch 3:  batch training loss = 1.983, valid_acc = 0.267\n",
      "Epoch  3, CIFAR-10 Batch 4:  batch training loss = 1.815, valid_acc = 0.265\n",
      "Epoch  3, CIFAR-10 Batch 5:  batch training loss = 1.915, valid_acc = 0.272\n",
      "Epoch  4, CIFAR-10 Batch 1:  batch training loss = 1.804, valid_acc = 0.279\n",
      "Epoch  4, CIFAR-10 Batch 2:  batch training loss = 1.734, valid_acc = 0.287\n",
      "Epoch  4, CIFAR-10 Batch 3:  batch training loss = 1.751, valid_acc = 0.306\n",
      "Epoch  4, CIFAR-10 Batch 4:  batch training loss = 1.790, valid_acc = 0.311\n",
      "Epoch  4, CIFAR-10 Batch 5:  batch training loss = 1.861, valid_acc = 0.311\n",
      "Epoch  5, CIFAR-10 Batch 1:  batch training loss = 1.640, valid_acc = 0.308\n",
      "Epoch  5, CIFAR-10 Batch 2:  batch training loss = 1.696, valid_acc = 0.321\n",
      "Epoch  5, CIFAR-10 Batch 3:  batch training loss = 1.706, valid_acc = 0.336\n",
      "Epoch  5, CIFAR-10 Batch 4:  batch training loss = 1.773, valid_acc = 0.338\n",
      "Epoch  5, CIFAR-10 Batch 5:  batch training loss = 1.731, valid_acc = 0.345\n",
      "Epoch  6, CIFAR-10 Batch 1:  batch training loss = 1.701, valid_acc = 0.348\n",
      "Epoch  6, CIFAR-10 Batch 2:  batch training loss = 1.616, valid_acc = 0.358\n",
      "Epoch  6, CIFAR-10 Batch 3:  batch training loss = 1.625, valid_acc = 0.361\n",
      "Epoch  6, CIFAR-10 Batch 4:  batch training loss = 1.742, valid_acc = 0.336\n",
      "Epoch  6, CIFAR-10 Batch 5:  batch training loss = 1.663, valid_acc = 0.372\n",
      "Epoch  7, CIFAR-10 Batch 1:  batch training loss = 1.617, valid_acc = 0.360\n",
      "Epoch  7, CIFAR-10 Batch 2:  batch training loss = 1.547, valid_acc = 0.377\n",
      "Epoch  7, CIFAR-10 Batch 3:  batch training loss = 1.480, valid_acc = 0.377\n",
      "Epoch  7, CIFAR-10 Batch 4:  batch training loss = 1.574, valid_acc = 0.386\n",
      "Epoch  7, CIFAR-10 Batch 5:  batch training loss = 1.647, valid_acc = 0.366\n",
      "Epoch  8, CIFAR-10 Batch 1:  batch training loss = 1.570, valid_acc = 0.385\n",
      "Epoch  8, CIFAR-10 Batch 2:  batch training loss = 1.324, valid_acc = 0.393\n",
      "Epoch  8, CIFAR-10 Batch 3:  batch training loss = 1.346, valid_acc = 0.389\n",
      "Epoch  8, CIFAR-10 Batch 4:  batch training loss = 1.563, valid_acc = 0.391\n",
      "Epoch  8, CIFAR-10 Batch 5:  batch training loss = 1.509, valid_acc = 0.396\n",
      "Epoch  9, CIFAR-10 Batch 1:  batch training loss = 1.377, valid_acc = 0.394\n",
      "Epoch  9, CIFAR-10 Batch 2:  batch training loss = 1.320, valid_acc = 0.400\n",
      "Epoch  9, CIFAR-10 Batch 3:  batch training loss = 1.336, valid_acc = 0.405\n",
      "Epoch  9, CIFAR-10 Batch 4:  batch training loss = 1.470, valid_acc = 0.414\n",
      "Epoch  9, CIFAR-10 Batch 5:  batch training loss = 1.404, valid_acc = 0.411\n",
      "Epoch 10, CIFAR-10 Batch 1:  batch training loss = 1.448, valid_acc = 0.401\n",
      "Epoch 10, CIFAR-10 Batch 2:  batch training loss = 1.308, valid_acc = 0.415\n",
      "Epoch 10, CIFAR-10 Batch 3:  batch training loss = 1.342, valid_acc = 0.393\n",
      "Epoch 10, CIFAR-10 Batch 4:  batch training loss = 1.409, valid_acc = 0.412\n",
      "Epoch 10, CIFAR-10 Batch 5:  batch training loss = 1.361, valid_acc = 0.403\n",
      "Epoch 11, CIFAR-10 Batch 1:  batch training loss = 1.306, valid_acc = 0.417\n",
      "Epoch 11, CIFAR-10 Batch 2:  batch training loss = 1.252, valid_acc = 0.422\n",
      "Epoch 11, CIFAR-10 Batch 3:  batch training loss = 1.205, valid_acc = 0.424\n",
      "Epoch 11, CIFAR-10 Batch 4:  batch training loss = 1.330, valid_acc = 0.439\n",
      "Epoch 11, CIFAR-10 Batch 5:  batch training loss = 1.406, valid_acc = 0.427\n",
      "Epoch 12, CIFAR-10 Batch 1:  batch training loss = 1.305, valid_acc = 0.433\n",
      "Epoch 12, CIFAR-10 Batch 2:  batch training loss = 1.272, valid_acc = 0.430\n",
      "Epoch 12, CIFAR-10 Batch 3:  batch training loss = 1.231, valid_acc = 0.424\n",
      "Epoch 12, CIFAR-10 Batch 4:  batch training loss = 1.309, valid_acc = 0.441\n",
      "Epoch 12, CIFAR-10 Batch 5:  batch training loss = 1.314, valid_acc = 0.444\n",
      "Epoch 13, CIFAR-10 Batch 1:  batch training loss = 1.182, valid_acc = 0.444\n",
      "Epoch 13, CIFAR-10 Batch 2:  batch training loss = 1.259, valid_acc = 0.436\n",
      "Epoch 13, CIFAR-10 Batch 3:  batch training loss = 1.125, valid_acc = 0.439\n",
      "Epoch 13, CIFAR-10 Batch 4:  batch training loss = 1.334, valid_acc = 0.444\n",
      "Epoch 13, CIFAR-10 Batch 5:  batch training loss = 1.300, valid_acc = 0.435\n",
      "Epoch 14, CIFAR-10 Batch 1:  batch training loss = 1.111, valid_acc = 0.455\n",
      "Epoch 14, CIFAR-10 Batch 2:  batch training loss = 1.165, valid_acc = 0.452\n",
      "Epoch 14, CIFAR-10 Batch 3:  batch training loss = 1.024, valid_acc = 0.460\n",
      "Epoch 14, CIFAR-10 Batch 4:  batch training loss = 1.254, valid_acc = 0.450\n",
      "Epoch 14, CIFAR-10 Batch 5:  batch training loss = 1.262, valid_acc = 0.440\n",
      "Epoch 15, CIFAR-10 Batch 1:  batch training loss = 1.110, valid_acc = 0.447\n",
      "Epoch 15, CIFAR-10 Batch 2:  batch training loss = 1.075, valid_acc = 0.459\n",
      "Epoch 15, CIFAR-10 Batch 3:  batch training loss = 1.032, valid_acc = 0.464\n",
      "Epoch 15, CIFAR-10 Batch 4:  batch training loss = 1.246, valid_acc = 0.449\n",
      "Epoch 15, CIFAR-10 Batch 5:  batch training loss = 1.211, valid_acc = 0.455\n",
      "Epoch 16, CIFAR-10 Batch 1:  batch training loss = 1.157, valid_acc = 0.454\n",
      "Epoch 16, CIFAR-10 Batch 2:  batch training loss = 1.062, valid_acc = 0.463\n",
      "Epoch 16, CIFAR-10 Batch 3:  batch training loss = 0.993, valid_acc = 0.464\n",
      "Epoch 16, CIFAR-10 Batch 4:  batch training loss = 1.191, valid_acc = 0.464\n",
      "Epoch 16, CIFAR-10 Batch 5:  batch training loss = 1.077, valid_acc = 0.478\n",
      "Epoch 17, CIFAR-10 Batch 1:  batch training loss = 1.127, valid_acc = 0.473\n",
      "Epoch 17, CIFAR-10 Batch 2:  batch training loss = 1.072, valid_acc = 0.471\n",
      "Epoch 17, CIFAR-10 Batch 3:  batch training loss = 0.958, valid_acc = 0.470\n",
      "Epoch 17, CIFAR-10 Batch 4:  batch training loss = 1.007, valid_acc = 0.479\n",
      "Epoch 17, CIFAR-10 Batch 5:  batch training loss = 1.013, valid_acc = 0.488\n",
      "Epoch 18, CIFAR-10 Batch 1:  batch training loss = 1.028, valid_acc = 0.473\n",
      "Epoch 18, CIFAR-10 Batch 2:  batch training loss = 1.078, valid_acc = 0.476\n",
      "Epoch 18, CIFAR-10 Batch 3:  batch training loss = 0.939, valid_acc = 0.483\n",
      "Epoch 18, CIFAR-10 Batch 4:  batch training loss = 1.088, valid_acc = 0.481\n",
      "Epoch 18, CIFAR-10 Batch 5:  batch training loss = 1.059, valid_acc = 0.481\n",
      "Epoch 19, CIFAR-10 Batch 1:  batch training loss = 1.144, valid_acc = 0.477\n",
      "Epoch 19, CIFAR-10 Batch 2:  batch training loss = 0.976, valid_acc = 0.482\n",
      "Epoch 19, CIFAR-10 Batch 3:  batch training loss = 0.913, valid_acc = 0.488\n",
      "Epoch 19, CIFAR-10 Batch 4:  batch training loss = 0.952, valid_acc = 0.481\n",
      "Epoch 19, CIFAR-10 Batch 5:  batch training loss = 1.053, valid_acc = 0.493\n",
      "Epoch 20, CIFAR-10 Batch 1:  batch training loss = 0.962, valid_acc = 0.502\n",
      "Epoch 20, CIFAR-10 Batch 2:  batch training loss = 0.982, valid_acc = 0.482\n",
      "Epoch 20, CIFAR-10 Batch 3:  batch training loss = 0.926, valid_acc = 0.489\n",
      "Epoch 20, CIFAR-10 Batch 4:  batch training loss = 0.935, valid_acc = 0.482\n",
      "Epoch 20, CIFAR-10 Batch 5:  batch training loss = 1.050, valid_acc = 0.497\n",
      "Epoch 21, CIFAR-10 Batch 1:  batch training loss = 0.992, valid_acc = 0.496\n",
      "Epoch 21, CIFAR-10 Batch 2:  batch training loss = 0.899, valid_acc = 0.483\n",
      "Epoch 21, CIFAR-10 Batch 3:  batch training loss = 0.891, valid_acc = 0.496\n",
      "Epoch 21, CIFAR-10 Batch 4:  batch training loss = 0.900, valid_acc = 0.490\n",
      "Epoch 21, CIFAR-10 Batch 5:  batch training loss = 0.882, valid_acc = 0.510\n",
      "Epoch 22, CIFAR-10 Batch 1:  batch training loss = 0.907, valid_acc = 0.499\n",
      "Epoch 22, CIFAR-10 Batch 2:  batch training loss = 0.870, valid_acc = 0.500\n",
      "Epoch 22, CIFAR-10 Batch 3:  batch training loss = 0.837, valid_acc = 0.504\n"
     ]
    },
    {
     "name": "stdout",
     "output_type": "stream",
     "text": [
      "Epoch 22, CIFAR-10 Batch 4:  batch training loss = 0.834, valid_acc = 0.497\n",
      "Epoch 22, CIFAR-10 Batch 5:  batch training loss = 0.938, valid_acc = 0.502\n",
      "Epoch 23, CIFAR-10 Batch 1:  batch training loss = 0.887, valid_acc = 0.512\n",
      "Epoch 23, CIFAR-10 Batch 2:  batch training loss = 0.945, valid_acc = 0.504\n",
      "Epoch 23, CIFAR-10 Batch 3:  batch training loss = 0.802, valid_acc = 0.496\n",
      "Epoch 23, CIFAR-10 Batch 4:  batch training loss = 0.935, valid_acc = 0.507\n",
      "Epoch 23, CIFAR-10 Batch 5:  batch training loss = 0.830, valid_acc = 0.512\n",
      "Epoch 24, CIFAR-10 Batch 1:  batch training loss = 0.954, valid_acc = 0.510\n",
      "Epoch 24, CIFAR-10 Batch 2:  batch training loss = 0.825, valid_acc = 0.500\n",
      "Epoch 24, CIFAR-10 Batch 3:  batch training loss = 0.731, valid_acc = 0.515\n",
      "Epoch 24, CIFAR-10 Batch 4:  batch training loss = 0.777, valid_acc = 0.499\n",
      "Epoch 24, CIFAR-10 Batch 5:  batch training loss = 0.889, valid_acc = 0.514\n",
      "Epoch 25, CIFAR-10 Batch 1:  batch training loss = 1.000, valid_acc = 0.512\n",
      "Epoch 25, CIFAR-10 Batch 2:  batch training loss = 0.814, valid_acc = 0.513\n",
      "Epoch 25, CIFAR-10 Batch 3:  batch training loss = 0.755, valid_acc = 0.512\n",
      "Epoch 25, CIFAR-10 Batch 4:  batch training loss = 0.787, valid_acc = 0.511\n",
      "Epoch 25, CIFAR-10 Batch 5:  batch training loss = 0.812, valid_acc = 0.505\n",
      "Epoch 26, CIFAR-10 Batch 1:  batch training loss = 0.936, valid_acc = 0.518\n",
      "Epoch 26, CIFAR-10 Batch 2:  batch training loss = 0.790, valid_acc = 0.516\n",
      "Epoch 26, CIFAR-10 Batch 3:  batch training loss = 0.720, valid_acc = 0.506\n",
      "Epoch 26, CIFAR-10 Batch 4:  batch training loss = 0.805, valid_acc = 0.500\n",
      "Epoch 26, CIFAR-10 Batch 5:  batch training loss = 0.814, valid_acc = 0.513\n",
      "Epoch 27, CIFAR-10 Batch 1:  batch training loss = 0.878, valid_acc = 0.507\n",
      "Epoch 27, CIFAR-10 Batch 2:  batch training loss = 0.787, valid_acc = 0.507\n",
      "Epoch 27, CIFAR-10 Batch 3:  batch training loss = 0.719, valid_acc = 0.509\n",
      "Epoch 27, CIFAR-10 Batch 4:  batch training loss = 0.790, valid_acc = 0.512\n",
      "Epoch 27, CIFAR-10 Batch 5:  batch training loss = 0.803, valid_acc = 0.516\n",
      "Epoch 28, CIFAR-10 Batch 1:  batch training loss = 0.761, valid_acc = 0.531\n",
      "Epoch 28, CIFAR-10 Batch 2:  batch training loss = 0.793, valid_acc = 0.517\n",
      "Epoch 28, CIFAR-10 Batch 3:  batch training loss = 0.714, valid_acc = 0.509\n",
      "Epoch 28, CIFAR-10 Batch 4:  batch training loss = 0.701, valid_acc = 0.509\n",
      "Epoch 28, CIFAR-10 Batch 5:  batch training loss = 0.814, valid_acc = 0.510\n",
      "Epoch 29, CIFAR-10 Batch 1:  batch training loss = 0.726, valid_acc = 0.530\n",
      "Epoch 29, CIFAR-10 Batch 2:  batch training loss = 0.791, valid_acc = 0.536\n",
      "Epoch 29, CIFAR-10 Batch 3:  batch training loss = 0.665, valid_acc = 0.528\n",
      "Epoch 29, CIFAR-10 Batch 4:  batch training loss = 0.798, valid_acc = 0.517\n",
      "Epoch 29, CIFAR-10 Batch 5:  batch training loss = 0.737, valid_acc = 0.540\n",
      "Epoch 30, CIFAR-10 Batch 1:  batch training loss = 0.763, valid_acc = 0.540\n",
      "Epoch 30, CIFAR-10 Batch 2:  batch training loss = 0.839, valid_acc = 0.522\n",
      "Epoch 30, CIFAR-10 Batch 3:  batch training loss = 0.633, valid_acc = 0.520\n",
      "Epoch 30, CIFAR-10 Batch 4:  batch training loss = 0.677, valid_acc = 0.517\n",
      "Epoch 30, CIFAR-10 Batch 5:  batch training loss = 0.759, valid_acc = 0.514\n",
      "Epoch 31, CIFAR-10 Batch 1:  batch training loss = 0.801, valid_acc = 0.522\n",
      "Epoch 31, CIFAR-10 Batch 2:  batch training loss = 0.757, valid_acc = 0.527\n",
      "Epoch 31, CIFAR-10 Batch 3:  batch training loss = 0.624, valid_acc = 0.535\n",
      "Epoch 31, CIFAR-10 Batch 4:  batch training loss = 0.666, valid_acc = 0.527\n",
      "Epoch 31, CIFAR-10 Batch 5:  batch training loss = 0.672, valid_acc = 0.520\n",
      "Epoch 32, CIFAR-10 Batch 1:  batch training loss = 0.683, valid_acc = 0.547\n",
      "Epoch 32, CIFAR-10 Batch 2:  batch training loss = 0.647, valid_acc = 0.532\n",
      "Epoch 32, CIFAR-10 Batch 3:  batch training loss = 0.588, valid_acc = 0.536\n",
      "Epoch 32, CIFAR-10 Batch 4:  batch training loss = 0.739, valid_acc = 0.541\n",
      "Epoch 32, CIFAR-10 Batch 5:  batch training loss = 0.659, valid_acc = 0.535\n",
      "Epoch 33, CIFAR-10 Batch 1:  batch training loss = 0.708, valid_acc = 0.533\n",
      "Epoch 33, CIFAR-10 Batch 2:  batch training loss = 0.684, valid_acc = 0.534\n",
      "Epoch 33, CIFAR-10 Batch 3:  batch training loss = 0.638, valid_acc = 0.524\n",
      "Epoch 33, CIFAR-10 Batch 4:  batch training loss = 0.648, valid_acc = 0.528\n",
      "Epoch 33, CIFAR-10 Batch 5:  batch training loss = 0.598, valid_acc = 0.541\n",
      "Epoch 34, CIFAR-10 Batch 1:  batch training loss = 0.649, valid_acc = 0.533\n",
      "Epoch 34, CIFAR-10 Batch 2:  batch training loss = 0.602, valid_acc = 0.536\n",
      "Epoch 34, CIFAR-10 Batch 3:  batch training loss = 0.638, valid_acc = 0.527\n",
      "Epoch 34, CIFAR-10 Batch 4:  batch training loss = 0.660, valid_acc = 0.531\n",
      "Epoch 34, CIFAR-10 Batch 5:  batch training loss = 0.589, valid_acc = 0.529\n",
      "Epoch 35, CIFAR-10 Batch 1:  batch training loss = 0.700, valid_acc = 0.542\n",
      "Epoch 35, CIFAR-10 Batch 2:  batch training loss = 0.625, valid_acc = 0.514\n",
      "Epoch 35, CIFAR-10 Batch 3:  batch training loss = 0.616, valid_acc = 0.544\n",
      "Epoch 35, CIFAR-10 Batch 4:  batch training loss = 0.685, valid_acc = 0.541\n",
      "Epoch 35, CIFAR-10 Batch 5:  batch training loss = 0.556, valid_acc = 0.537\n",
      "Epoch 36, CIFAR-10 Batch 1:  batch training loss = 0.777, valid_acc = 0.526\n",
      "Epoch 36, CIFAR-10 Batch 2:  batch training loss = 0.616, valid_acc = 0.540\n",
      "Epoch 36, CIFAR-10 Batch 3:  batch training loss = 0.603, valid_acc = 0.539\n",
      "Epoch 36, CIFAR-10 Batch 4:  batch training loss = 0.599, valid_acc = 0.550\n",
      "Epoch 36, CIFAR-10 Batch 5:  batch training loss = 0.597, valid_acc = 0.539\n",
      "Epoch 37, CIFAR-10 Batch 1:  batch training loss = 0.596, valid_acc = 0.556\n",
      "Epoch 37, CIFAR-10 Batch 2:  batch training loss = 0.603, valid_acc = 0.527\n",
      "Epoch 37, CIFAR-10 Batch 3:  batch training loss = 0.524, valid_acc = 0.551\n",
      "Epoch 37, CIFAR-10 Batch 4:  batch training loss = 0.707, valid_acc = 0.552\n",
      "Epoch 37, CIFAR-10 Batch 5:  batch training loss = 0.565, valid_acc = 0.560\n",
      "Epoch 38, CIFAR-10 Batch 1:  batch training loss = 0.736, valid_acc = 0.524\n",
      "Epoch 38, CIFAR-10 Batch 2:  batch training loss = 0.588, valid_acc = 0.543\n",
      "Epoch 38, CIFAR-10 Batch 3:  batch training loss = 0.510, valid_acc = 0.540\n",
      "Epoch 38, CIFAR-10 Batch 4:  batch training loss = 0.685, valid_acc = 0.549\n",
      "Epoch 38, CIFAR-10 Batch 5:  batch training loss = 0.712, valid_acc = 0.545\n",
      "Epoch 39, CIFAR-10 Batch 1:  batch training loss = 0.710, valid_acc = 0.534\n",
      "Epoch 39, CIFAR-10 Batch 2:  batch training loss = 0.650, valid_acc = 0.535\n",
      "Epoch 39, CIFAR-10 Batch 3:  batch training loss = 0.591, valid_acc = 0.556\n",
      "Epoch 39, CIFAR-10 Batch 4:  batch training loss = 0.547, valid_acc = 0.551\n",
      "Epoch 39, CIFAR-10 Batch 5:  batch training loss = 0.525, valid_acc = 0.542\n",
      "Epoch 40, CIFAR-10 Batch 1:  batch training loss = 0.575, valid_acc = 0.543\n",
      "Epoch 40, CIFAR-10 Batch 2:  batch training loss = 0.561, valid_acc = 0.548\n",
      "Epoch 40, CIFAR-10 Batch 3:  batch training loss = 0.532, valid_acc = 0.553\n",
      "Epoch 40, CIFAR-10 Batch 4:  batch training loss = 0.610, valid_acc = 0.559\n",
      "Epoch 40, CIFAR-10 Batch 5:  batch training loss = 0.589, valid_acc = 0.535\n",
      "Epoch 41, CIFAR-10 Batch 1:  batch training loss = 0.583, valid_acc = 0.555\n",
      "Epoch 41, CIFAR-10 Batch 2:  batch training loss = 0.595, valid_acc = 0.549\n",
      "Epoch 41, CIFAR-10 Batch 3:  batch training loss = 0.566, valid_acc = 0.540\n",
      "Epoch 41, CIFAR-10 Batch 4:  batch training loss = 0.564, valid_acc = 0.562\n",
      "Epoch 41, CIFAR-10 Batch 5:  batch training loss = 0.585, valid_acc = 0.540\n",
      "Epoch 42, CIFAR-10 Batch 1:  batch training loss = 0.588, valid_acc = 0.556\n",
      "Epoch 42, CIFAR-10 Batch 2:  batch training loss = 0.552, valid_acc = 0.559\n",
      "Epoch 42, CIFAR-10 Batch 3:  batch training loss = 0.506, valid_acc = 0.544\n",
      "Epoch 42, CIFAR-10 Batch 4:  batch training loss = 0.552, valid_acc = 0.563\n",
      "Epoch 42, CIFAR-10 Batch 5:  batch training loss = 0.661, valid_acc = 0.542\n",
      "Epoch 43, CIFAR-10 Batch 1:  batch training loss = 0.591, valid_acc = 0.542\n",
      "Epoch 43, CIFAR-10 Batch 2:  batch training loss = 0.524, valid_acc = 0.562\n",
      "Epoch 43, CIFAR-10 Batch 3:  batch training loss = 0.470, valid_acc = 0.549\n",
      "Epoch 43, CIFAR-10 Batch 4:  batch training loss = 0.509, valid_acc = 0.568\n",
      "Epoch 43, CIFAR-10 Batch 5:  batch training loss = 0.504, valid_acc = 0.563\n",
      "Epoch 44, CIFAR-10 Batch 1:  batch training loss = 0.582, valid_acc = 0.556\n"
     ]
    },
    {
     "name": "stdout",
     "output_type": "stream",
     "text": [
      "Epoch 44, CIFAR-10 Batch 2:  batch training loss = 0.501, valid_acc = 0.561\n",
      "Epoch 44, CIFAR-10 Batch 3:  batch training loss = 0.439, valid_acc = 0.559\n",
      "Epoch 44, CIFAR-10 Batch 4:  batch training loss = 0.488, valid_acc = 0.568\n",
      "Epoch 44, CIFAR-10 Batch 5:  batch training loss = 0.460, valid_acc = 0.559\n",
      "Epoch 45, CIFAR-10 Batch 1:  batch training loss = 0.577, valid_acc = 0.554\n",
      "Epoch 45, CIFAR-10 Batch 2:  batch training loss = 0.538, valid_acc = 0.547\n",
      "Epoch 45, CIFAR-10 Batch 3:  batch training loss = 0.487, valid_acc = 0.554\n",
      "Epoch 45, CIFAR-10 Batch 4:  batch training loss = 0.446, valid_acc = 0.567\n",
      "Epoch 45, CIFAR-10 Batch 5:  batch training loss = 0.483, valid_acc = 0.564\n",
      "Epoch 46, CIFAR-10 Batch 1:  batch training loss = 0.511, valid_acc = 0.561\n",
      "Epoch 46, CIFAR-10 Batch 2:  batch training loss = 0.540, valid_acc = 0.568\n",
      "Epoch 46, CIFAR-10 Batch 3:  batch training loss = 0.503, valid_acc = 0.568\n",
      "Epoch 46, CIFAR-10 Batch 4:  batch training loss = 0.439, valid_acc = 0.557\n",
      "Epoch 46, CIFAR-10 Batch 5:  batch training loss = 0.444, valid_acc = 0.569\n",
      "Epoch 47, CIFAR-10 Batch 1:  batch training loss = 0.520, valid_acc = 0.560\n",
      "Epoch 47, CIFAR-10 Batch 2:  batch training loss = 0.604, valid_acc = 0.544\n",
      "Epoch 47, CIFAR-10 Batch 3:  batch training loss = 0.431, valid_acc = 0.573\n",
      "Epoch 47, CIFAR-10 Batch 4:  batch training loss = 0.522, valid_acc = 0.557\n",
      "Epoch 47, CIFAR-10 Batch 5:  batch training loss = 0.448, valid_acc = 0.571\n",
      "Epoch 48, CIFAR-10 Batch 1:  batch training loss = 0.506, valid_acc = 0.555\n",
      "Epoch 48, CIFAR-10 Batch 2:  batch training loss = 0.529, valid_acc = 0.555\n",
      "Epoch 48, CIFAR-10 Batch 3:  batch training loss = 0.435, valid_acc = 0.565\n",
      "Epoch 48, CIFAR-10 Batch 4:  batch training loss = 0.429, valid_acc = 0.564\n",
      "Epoch 48, CIFAR-10 Batch 5:  batch training loss = 0.504, valid_acc = 0.550\n",
      "Epoch 49, CIFAR-10 Batch 1:  batch training loss = 0.482, valid_acc = 0.555\n",
      "Epoch 49, CIFAR-10 Batch 2:  batch training loss = 0.492, valid_acc = 0.559\n",
      "Epoch 49, CIFAR-10 Batch 3:  batch training loss = 0.377, valid_acc = 0.571\n",
      "Epoch 49, CIFAR-10 Batch 4:  batch training loss = 0.441, valid_acc = 0.559\n",
      "Epoch 49, CIFAR-10 Batch 5:  batch training loss = 0.442, valid_acc = 0.566\n",
      "Epoch 50, CIFAR-10 Batch 1:  batch training loss = 0.564, valid_acc = 0.554\n",
      "Epoch 50, CIFAR-10 Batch 2:  batch training loss = 0.479, valid_acc = 0.546\n",
      "Epoch 50, CIFAR-10 Batch 3:  batch training loss = 0.465, valid_acc = 0.557\n",
      "Epoch 50, CIFAR-10 Batch 4:  batch training loss = 0.458, valid_acc = 0.554\n",
      "Epoch 50, CIFAR-10 Batch 5:  batch training loss = 0.473, valid_acc = 0.561\n"
     ]
    }
   ],
   "source": [
    "\"\"\"\n",
    "DON'T MODIFY ANYTHING IN THIS CELL\n",
    "\"\"\"\n",
    "save_model_path = './image_classification'\n",
    "\n",
    "print('Training...')\n",
    "with tf.Session() as sess:\n",
    "    # Initializing the variables\n",
    "    sess.run(tf.global_variables_initializer())\n",
    "    \n",
    "    # Training cycle\n",
    "    for epoch in range(epochs):\n",
    "        # Loop over all batches\n",
    "        n_batches = 5\n",
    "        for batch_i in range(1, n_batches + 1):\n",
    "            for batch_features, batch_labels in helper.load_preprocess_training_batch(batch_i, batch_size):\n",
    "                train_neural_network(sess, optimizer, keep_probability, batch_features, batch_labels)\n",
    "            print('Epoch {:>2}, CIFAR-10 Batch {}:  '.format(epoch + 1, batch_i), end='')\n",
    "            print_stats(sess, batch_features, batch_labels, cost, accuracy)\n",
    "            \n",
    "    # Save Model\n",
    "    saver = tf.train.Saver()\n",
    "    save_path = saver.save(sess, save_model_path)"
   ]
  },
  {
   "cell_type": "code",
   "execution_count": 24,
   "metadata": {
    "collapsed": true
   },
   "outputs": [],
   "source": [
    "end_time = timeit.default_timer()"
   ]
  },
  {
   "cell_type": "code",
   "execution_count": 25,
   "metadata": {},
   "outputs": [
    {
     "name": "stdout",
     "output_type": "stream",
     "text": [
      "Full batch run time = 34.359313779433315 mins\n"
     ]
    }
   ],
   "source": [
    "print(\"Full batch run time = {} mins\".format((end_time - start_time)/60))"
   ]
  },
  {
   "cell_type": "markdown",
   "metadata": {},
   "source": [
    "# Checkpoint\n",
    "The model has been saved to disk.\n",
    "## Test Model\n",
    "Test your model against the test dataset.  This will be your final accuracy. You should have an accuracy greater than 50%. If you don't, keep tweaking the model architecture and parameters."
   ]
  },
  {
   "cell_type": "code",
   "execution_count": 26,
   "metadata": {},
   "outputs": [
    {
     "name": "stdout",
     "output_type": "stream",
     "text": [
      "INFO:tensorflow:Restoring parameters from ./image_classification\n",
      "Testing Accuracy: 0.55556640625\n",
      "\n"
     ]
    },
    {
     "data": {
      "image/png": "[encoded data removed]",
      "text/plain": [
       "<matplotlib.figure.Figure at 0x1071af5c0>"
      ]
     },
     "metadata": {
      "image/png": {
       "height": 319,
       "width": 355
      }
     },
     "output_type": "display_data"
    }
   ],
   "source": [
    "\"\"\"\n",
    "DON'T MODIFY ANYTHING IN THIS CELL\n",
    "\"\"\"\n",
    "%matplotlib inline\n",
    "%config InlineBackend.figure_format = 'retina'\n",
    "\n",
    "import tensorflow as tf\n",
    "import pickle\n",
    "import helper\n",
    "import random\n",
    "\n",
    "# Set batch size if not already set\n",
    "try:\n",
    "    if batch_size:\n",
    "        pass\n",
    "except NameError:\n",
    "    batch_size = 64\n",
    "\n",
    "save_model_path = './image_classification'\n",
    "n_samples = 4\n",
    "top_n_predictions = 3\n",
    "\n",
    "def test_model():\n",
    "    \"\"\"\n",
    "    Test the saved model against the test dataset\n",
    "    \"\"\"\n",
    "\n",
    "    test_features, test_labels = pickle.load(open('preprocess_test.p', mode='rb'))\n",
    "    loaded_graph = tf.Graph()\n",
    "\n",
    "    with tf.Session(graph=loaded_graph) as sess:\n",
    "        # Load model\n",
    "        loader = tf.train.import_meta_graph(save_model_path + '.meta')\n",
    "        loader.restore(sess, save_model_path)\n",
    "\n",
    "        # Get Tensors from loaded model\n",
    "        loaded_x = loaded_graph.get_tensor_by_name('x:0')\n",
    "        loaded_y = loaded_graph.get_tensor_by_name('y:0')\n",
    "        loaded_keep_prob = loaded_graph.get_tensor_by_name('keep_prob:0')\n",
    "        loaded_logits = loaded_graph.get_tensor_by_name('logits:0')\n",
    "        loaded_acc = loaded_graph.get_tensor_by_name('accuracy:0')\n",
    "        \n",
    "        # Get accuracy in batches for memory limitations\n",
    "        test_batch_acc_total = 0\n",
    "        test_batch_count = 0\n",
    "        \n",
    "        for test_feature_batch, test_label_batch in helper.batch_features_labels(test_features, test_labels, batch_size):\n",
    "            test_batch_acc_total += sess.run(\n",
    "                loaded_acc,\n",
    "                feed_dict={loaded_x: test_feature_batch, loaded_y: test_label_batch, loaded_keep_prob: 1.0})\n",
    "            test_batch_count += 1\n",
    "\n",
    "        print('Testing Accuracy: {}\\n'.format(test_batch_acc_total/test_batch_count))\n",
    "\n",
    "        # Print Random Samples\n",
    "        random_test_features, random_test_labels = tuple(zip(*random.sample(list(zip(test_features, test_labels)), n_samples)))\n",
    "        random_test_predictions = sess.run(\n",
    "            tf.nn.top_k(tf.nn.softmax(loaded_logits), top_n_predictions),\n",
    "            feed_dict={loaded_x: random_test_features, loaded_y: random_test_labels, loaded_keep_prob: 1.0})\n",
    "        helper.display_image_predictions(random_test_features, random_test_labels, random_test_predictions)\n",
    "\n",
    "\n",
    "test_model()"
   ]
  },
  {
   "cell_type": "markdown",
   "metadata": {},
   "source": [
    "## Why 50-80% Accuracy?\n",
    "You might be wondering why you can't get an accuracy any higher. First things first, 50% isn't bad for a simple CNN.  Pure guessing would get you 10% accuracy. However, you might notice people are getting scores [well above 80%](http://rodrigob.github.io/are_we_there_yet/build/classification_datasets_results.html#43494641522d3130).  That's because we haven't taught you all there is to know about neural networks. We still need to cover a few more techniques.\n",
    "## Submitting This Project\n",
    "When submitting this project, make sure to run all the cells before saving the notebook.  Save the notebook file as \"dlnd_image_classification.ipynb\" and save it as a HTML file under \"File\" -> \"Download as\".  Include the \"helper.py\" and \"problem_unittests.py\" files in your submission."
   ]
  },
  {
   "cell_type": "code",
   "execution_count": null,
   "metadata": {
    "collapsed": true
   },
   "outputs": [],
   "source": []
  }
 ],
 "metadata": {
  "kernelspec": {
   "display_name": "Python 3",
   "language": "python",
   "name": "python3"
  },
  "language_info": {
   "codemirror_mode": {
    "name": "ipython",
    "version": 3
   },
   "file_extension": ".py",
   "mimetype": "text/x-python",
   "name": "python",
   "nbconvert_exporter": "python",
   "pygments_lexer": "ipython3",
   "version": "3.5.4"
  },
  "widgets": {
   "state": {},
   "version": "1.1.2"
  }
 },
 "nbformat": 4,
 "nbformat_minor": 1
}
